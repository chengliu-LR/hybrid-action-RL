{
 "metadata": {
  "language_info": {
   "codemirror_mode": {
    "name": "ipython",
    "version": 3
   },
   "file_extension": ".py",
   "mimetype": "text/x-python",
   "name": "python",
   "nbconvert_exporter": "python",
   "pygments_lexer": "ipython3",
   "version": "3.7.3-final"
  },
  "orig_nbformat": 2,
  "kernelspec": {
   "name": "python3",
   "display_name": "Python 3.7.3 64-bit",
   "metadata": {
    "interpreter": {
     "hash": "31f2aee4e71d21fbe5cf8b01ff0e069b9275f58929596ceb00d14d90e3e16cd6"
    }
   }
  }
 },
 "nbformat": 4,
 "nbformat_minor": 2,
 "cells": [
  {
   "cell_type": "code",
   "execution_count": 14,
   "metadata": {},
   "outputs": [
    {
     "output_type": "stream",
     "name": "stdout",
     "text": [
      "(2, 500)\n"
     ]
    }
   ],
   "source": [
    "import numpy as np\n",
    "import matplotlib.pyplot as plt\n",
    "import seaborn as sb\n",
    "\n",
    "sb.set_style('darkgrid')\n",
    "data_mpdqn_1 = np.loadtxt(\"../logs/log_pdqn_GoalEnv_seed_27.txt\", dtype=np.float32, delimiter=',')\n",
    "data_mpdqn_2 = np.loadtxt(\"../logs/log_pdqn_GoalEnv_seed_4.txt\", dtype=np.float32, delimiter=',')\n",
    "#seaborn.tsplot(data_pdqn[:,2], color='orange', legend=True)\n",
    "training_data = np.array((data_mpdqn_1[:,-2], data_mpdqn_2[:,-2]))\n",
    "print(training_data.shape)\n",
    "plt.figure(dpi = 300)\n",
    "sb.tsplot(training_data, color='green')\n",
    "plt.xlabel('Episodes (x10^2)')\n",
    "plt.ylabel('Probability of Success')\n",
    "plt.title('Success Probability on Training 20000 Episodes')\n",
    "plt.legend(labels=['mp-dqn'])\n",
    "plt.savefig(\"goal_env_success_rate_5_runs.png\")\n",
    "plt.close()"
   ]
  },
  {
   "cell_type": "code",
   "execution_count": null,
   "metadata": {},
   "outputs": [],
   "source": []
  }
 ]
}